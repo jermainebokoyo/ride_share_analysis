{
 "cells": [
  {
   "cell_type": "code",
   "execution_count": null,
   "metadata": {},
   "outputs": [],
   "source": [
    "import pandas as pd\n",
    "import numpy as np\n",
    "import datetime as dt"
   ]
  },
  {
   "cell_type": "code",
   "execution_count": null,
   "metadata": {},
   "outputs": [],
   "source": [
    "jan = pd.read_csv(\"202201-divvy-tripdata.csv\")\n",
    "feb = pd.read_csv(\"202202-divvy-tripdata.csv\")\n",
    "mar = pd.read_csv(\"202203-divvy-tripdata.csv\")\n",
    "apr = pd.read_csv(\"202204-divvy-tripdata.csv\")\n",
    "may = pd.read_csv(\"202205-divvy-tripdata.csv\")\n",
    "jun = pd.read_csv(\"202206-divvy-tripdata.csv\")\n",
    "jul = pd.read_csv(\"202207-divvy-tripdata.csv\")\n",
    "aug = pd.read_csv(\"202208-divvy-tripdata.csv\")\n",
    "sep = pd.read_csv(\"202209-divvy-tripdata.csv\")\n",
    "oct = pd.read_csv(\"202210-divvy-tripdata.csv\")\n",
    "nov = pd.read_csv(\"202211-divvy-tripdata.csv\")\n",
    "dec = pd.read_csv(\"202212-divvy-tripdata.csv\")"
   ]
  },
  {
   "attachments": {},
   "cell_type": "markdown",
   "metadata": {},
   "source": [
    "### Merging all dataframes into one dataframe"
   ]
  },
  {
   "cell_type": "code",
   "execution_count": null,
   "metadata": {},
   "outputs": [],
   "source": [
    "data_list = [jan, feb, mar, apr, may, jun, jul, aug, sep, oct, nov, dec]\n",
    "merged_df = pd.concat(data_list)"
   ]
  },
  {
   "attachments": {},
   "cell_type": "markdown",
   "metadata": {},
   "source": [
    "### To find the length of each ride, I converted the started_at and ended_at columns to datetime objects so I could compute their difference"
   ]
  },
  {
   "cell_type": "code",
   "execution_count": null,
   "metadata": {},
   "outputs": [],
   "source": [
    "merged_df['started_at'] = pd.to_datetime(merged_df['started_at'])\n",
    "merged_df['ended_at'] = pd.to_datetime(merged_df   ['ended_at'])\n",
    "merged_df['ride_length'] = merged_df['ended_at'] - merged_df['started_at']"
   ]
  },
  {
   "attachments": {},
   "cell_type": "markdown",
   "metadata": {},
   "source": [
    "### To get the day of the week that each ride started"
   ]
  },
  {
   "cell_type": "code",
   "execution_count": null,
   "metadata": {},
   "outputs": [],
   "source": [
    "merged_df[\"day_of_week\"] = merged_df[\"started_at\"].dt.dayofweek"
   ]
  },
  {
   "attachments": {},
   "cell_type": "markdown",
   "metadata": {},
   "source": [
    "### The days are returned as numbers e.g, Monday = 0, Tuesday = 1, and so on. To change it to the days proper, I created a dictionary of the days of the week and wrote a lambda function to apply it to each column"
   ]
  },
  {
   "cell_type": "code",
   "execution_count": null,
   "metadata": {},
   "outputs": [],
   "source": [
    "import numpy as np\n",
    "\n",
    "weekday = {\n",
    "    0: 'Monday',\n",
    "    1: 'Tuesday',\n",
    "    2: 'Wednesday',\n",
    "    3: 'Thursday',\n",
    "    4: 'Friday',\n",
    "    5: 'Saturday',\n",
    "    6: 'Sunday'\n",
    "}\n",
    "merged_df['day_of_week_name'] = merged_df['day_of_week'].map(weekday).fillna(np.nan)"
   ]
  },
  {
   "attachments": {},
   "cell_type": "markdown",
   "metadata": {},
   "source": [
    "#### I created column for the month and year for ride from the started_at column"
   ]
  },
  {
   "cell_type": "code",
   "execution_count": null,
   "metadata": {},
   "outputs": [],
   "source": [
    "merged_df['year'] = pd.DatetimeIndex(merged_df['started_at']).year\n",
    "merged_df['month'] = pd.DatetimeIndex(merged_df['started_at']).month"
   ]
  },
  {
   "attachments": {},
   "cell_type": "markdown",
   "metadata": {},
   "source": [
    "### To find out the number of riders per user type"
   ]
  },
  {
   "cell_type": "code",
   "execution_count": null,
   "metadata": {},
   "outputs": [],
   "source": [
    "total_members = merged_df['member_casual'].value_counts()\n",
    "total_members"
   ]
  },
  {
   "attachments": {},
   "cell_type": "markdown",
   "metadata": {},
   "source": [
    "### To find out the average duration of a ride for each user type"
   ]
  },
  {
   "attachments": {},
   "cell_type": "markdown",
   "metadata": {},
   "source": [
    "Casual Riders"
   ]
  },
  {
   "cell_type": "code",
   "execution_count": null,
   "metadata": {},
   "outputs": [],
   "source": [
    "casual_member = merged_df[merged_df['member_casual'] == 'casual']\n",
    "avg_casual_member_ride_length = casual_member   ['ride_length'].mean()\n",
    "avg_casual_member_ride_length"
   ]
  },
  {
   "attachments": {},
   "cell_type": "markdown",
   "metadata": {},
   "source": [
    "Memeber Riders"
   ]
  },
  {
   "cell_type": "code",
   "execution_count": null,
   "metadata": {},
   "outputs": [],
   "source": [
    "paid_member = merged_df[merged_df['member_casual'] == 'member']\n",
    "avg_paid_member_ride_length = paid_member   ['ride_length'].mean()\n",
    "avg_paid_member_ride_length"
   ]
  },
  {
   "attachments": {},
   "cell_type": "markdown",
   "metadata": {},
   "source": [
    "### Maximum duration for casual riders"
   ]
  },
  {
   "cell_type": "code",
   "execution_count": null,
   "metadata": {},
   "outputs": [],
   "source": [
    "max_casual_member_ride_length = casual_member['ride_length'].max()\n",
    "max_casual_member_ride_length"
   ]
  },
  {
   "attachments": {},
   "cell_type": "markdown",
   "metadata": {},
   "source": [
    "### Maximum duration for member riders"
   ]
  },
  {
   "cell_type": "code",
   "execution_count": null,
   "metadata": {},
   "outputs": [],
   "source": [
    "max_member_ride_length = paid_member['ride_length'].max()\n",
    "max_member_ride_length"
   ]
  },
  {
   "attachments": {},
   "cell_type": "markdown",
   "metadata": {},
   "source": [
    "### Most frequent Ride Day for Member Riders"
   ]
  },
  {
   "cell_type": "code",
   "execution_count": null,
   "metadata": {},
   "outputs": [],
   "source": [
    "mode_ride_day_casual_member = casual_member['day_of_week_name'].mode()\n",
    "mode_ride_day_casual_member"
   ]
  },
  {
   "attachments": {},
   "cell_type": "markdown",
   "metadata": {},
   "source": [
    "### Most Frequent Ride Day for Casual Riders"
   ]
  },
  {
   "cell_type": "code",
   "execution_count": null,
   "metadata": {},
   "outputs": [],
   "source": [
    "mode_ride_day_paid_member = paid_member['day_of_week_name'].mode()\n",
    "mode_ride_day_paid_member"
   ]
  },
  {
   "attachments": {},
   "cell_type": "markdown",
   "metadata": {},
   "source": [
    "### The number of rides per day for casual riders"
   ]
  },
  {
   "cell_type": "code",
   "execution_count": null,
   "metadata": {},
   "outputs": [],
   "source": [
    "ride_per_day_casual = casual_member.groupby('day_of_week_name')['ride_id'].count().sort_values(ascending=False)\n",
    "ride_per_day_casual"
   ]
  },
  {
   "attachments": {},
   "cell_type": "markdown",
   "metadata": {},
   "source": [
    "### The Number of Rides per Day for Member Riders"
   ]
  },
  {
   "cell_type": "code",
   "execution_count": null,
   "metadata": {},
   "outputs": [],
   "source": [
    "ride_per_day_paid = paid_member.groupby('day_of_week_name')['ride_id'].count().sort_values(ascending=False)\n",
    "ride_per_day_paid"
   ]
  },
  {
   "attachments": {},
   "cell_type": "markdown",
   "metadata": {},
   "source": [
    "### To find out the average ride length per day for casual riders"
   ]
  },
  {
   "cell_type": "code",
   "execution_count": null,
   "metadata": {},
   "outputs": [],
   "source": [
    "avg_casual_length_per_day = casual_member[['day_of_week_name', 'ride_length']]\n",
    "avg_casual_length_per_day = avg_casual_length_per_day.groupby('day_of_week_name')['ride_length'].mean()\n",
    "\n",
    "#Convert above result to dataframe\n",
    "avg_casual_length_per_day_df = pd.DataFrame({\"day_of_week\":avg_casual_length_per_day.index,\n",
    "                                \"casual_ride_length_avg\": avg_casual_length_per_day.values})\n",
    "\n",
    "avg_casual_length_per_day_df['casual_ride_length_avg'] = avg_casual_length_per_day_df['casual_ride_length_avg']/pd.Timedelta(minutes=1) #To get ride length in minutes\n",
    "avg_casual_length_per_day_df"
   ]
  },
  {
   "attachments": {},
   "cell_type": "markdown",
   "metadata": {},
   "source": [
    "### Average Ride Length per Day for Member Riders"
   ]
  },
  {
   "cell_type": "code",
   "execution_count": null,
   "metadata": {},
   "outputs": [],
   "source": [
    "avg_paid_length_per_day = paid_member[['day_of_week_name', 'ride_length']]\n",
    "avg_paid_length_per_day =   avg_paid_length_per_day.groupby   ('day_of_week_name')['ride_length'].mean()\n",
    "\n",
    "avg_paid_length_per_day_df = pd.DataFrame   ({\"day_of_week\":avg_paid_length_per_day.index,\n",
    "\"paid_ride_length_avg\": avg_paid_length_per_day.values})\n",
    "\n",
    "avg_paid_length_per_day_df  ['paid_ride_length_avg'] =    avg_paid_length_per_day_df ['paid_ride_length_avg']/pd.Timedelta(minutes=1) #To get ride length in minutes\n",
    "\n",
    "avg_paid_length_per_day_df"
   ]
  },
  {
   "attachments": {},
   "cell_type": "markdown",
   "metadata": {},
   "source": [
    "### Lastly, we will check for any monthly trends in the data."
   ]
  },
  {
   "cell_type": "code",
   "execution_count": null,
   "metadata": {},
   "outputs": [],
   "source": [
    "monthly_trend = merged_df.groupby(\"month\")[\"member_casual\"].value_counts()\n",
    "monthly_trend_df = monthly_trend.to_frame()\n",
    "monthly_trend_df\n",
    "#Convert to dataframe then to CSV file\n",
    "monthly_trend_df = monthly_trend.unstack(level=1)\n",
    "monthly_trend_df"
   ]
  }
 ],
 "metadata": {
  "kernelspec": {
   "display_name": "base",
   "language": "python",
   "name": "python3"
  },
  "language_info": {
   "codemirror_mode": {
    "name": "ipython",
    "version": 3
   },
   "file_extension": ".py",
   "mimetype": "text/x-python",
   "name": "python",
   "nbconvert_exporter": "python",
   "pygments_lexer": "ipython3",
   "version": "3.9.13"
  },
  "orig_nbformat": 4
 },
 "nbformat": 4,
 "nbformat_minor": 2
}
